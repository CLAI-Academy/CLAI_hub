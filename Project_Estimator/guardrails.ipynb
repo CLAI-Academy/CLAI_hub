{
 "cells": [
  {
   "cell_type": "markdown",
   "metadata": {},
   "source": [
    "# Guardrails\n",
    "\n",
    "Un guardrail es una validación que se coloca alrededor del input o output del modelo, con el objetivo de asegurar que el output del modelo cumple con las expectativas y politicas de seguridad.\n",
    "\n",
    "En los chatbots encontramos problemas constantemente:\n",
    "\n",
    "- Alucinaciones\n",
    "- Que el cliente muestre información sensible que no debe compartirse con los proveedores de LLMs\n",
    "- Que el chtabot conteste preguntas no relacionadas con el negocio\n",
    "- Que el chatbot hable sobre la competencia\n",
    "\n"
   ]
  },
  {
   "cell_type": "markdown",
   "metadata": {},
   "source": [
    "Ejemplo Input guatdrails validan:\n",
    "\n",
    "- Intento de jailbraking\n",
    "- La pregunta del usuario tiene que ver con el objetivo del chatbot?\n",
    "- El cliente está introduciendo información sensible?\n",
    "\n",
    "eiemplo Output guardrails validan\n",
    "\n",
    "- El LLM está compartiendo información sensible\n",
    "- Si la respuesta se basa en la base de conocimiento"
   ]
  },
  {
   "cell_type": "code",
   "execution_count": 15,
   "metadata": {},
   "outputs": [],
   "source": [
    "# # Warning control\n",
    "# import warnings\n",
    "# warnings.filterwarnings('ignore')\n",
    "\n",
    "# Load environment variables\n",
    "from dotenv import load_dotenv\n",
    "\n",
    "load_dotenv()\n",
    "\n",
    "import os\n",
    "import yaml\n",
    "from crewai import Agent, Task, Crew"
   ]
  },
  {
   "cell_type": "code",
   "execution_count": 16,
   "metadata": {},
   "outputs": [],
   "source": [
    "os.environ['OPENAI_MODEL_NAME'] = 'gpt-4o-mini'"
   ]
  },
  {
   "cell_type": "code",
   "execution_count": 17,
   "metadata": {},
   "outputs": [],
   "source": [
    "# Define file paths for YAML configurations\n",
    "files = {\n",
    "    'agents': 'config/agents.yaml',\n",
    "    'tasks': 'config/tasks.yaml'\n",
    "}\n",
    "\n",
    "# Load configurations from YAML files\n",
    "configs = {}\n",
    "for config_type, file_path in files.items():\n",
    "    with open(file_path, 'r') as file:\n",
    "        configs[config_type] = yaml.safe_load(file)\n",
    "\n",
    "# Assign loaded configurations to specific variables\n",
    "agents_config = configs['agents']\n",
    "tasks_config = configs['tasks']"
   ]
  },
  {
   "cell_type": "markdown",
   "metadata": {},
   "source": [
    "## Ejemplo de Guardrail\n",
    "\n",
    "Este es un ejemplo muy basico pero que muestra perfectamente como funiona un Guardrail. Vamos a construir un Agente, que escribe post para redes sociales. Y vamos a construir un Guardrail, que verifique que el post tiene menos de 1000 caracteres. \n",
    "\n",
    "Si el post supera esos caracteres, el guardrail enviara un error al agente, para que este vuelva a iterar, hasta crear un post de menos de 1000 caracteres."
   ]
  },
  {
   "cell_type": "code",
   "execution_count": 18,
   "metadata": {},
   "outputs": [],
   "source": [
    "from typing import Tuple, Any\n",
    "\n",
    "def validate_post_length(task_output: Any) -> Tuple[bool, Any]:\n",
    "    \"\"\"\n",
    "    Validates that the post content does not exceed 1000 characters.\n",
    "    \n",
    "    Args:\n",
    "        task_output: The TaskOutput object to validate\n",
    "        \n",
    "    Returns:\n",
    "        Tuple[bool, Any]: \n",
    "        - If valid: (True, validated_content)\n",
    "        - If invalid: (False, error_message)\n",
    "    \"\"\"\n",
    "    try:\n",
    "        # Acceder al contenido de la respuesta final\n",
    "        result = task_output.result\n",
    "        \n",
    "        if isinstance(result, str):\n",
    "            char_count = len(result)\n",
    "            \n",
    "            if char_count > 1000:\n",
    "                return (False, f\"Post content exceeds maximum length of 1000 characters. Current length: {char_count}\")\n",
    "\n",
    "            return (True, result)\n",
    "        else:\n",
    "            return (False, f\"Invalid result type. Expected string, got {type(result)}\")\n",
    "        \n",
    "    except AttributeError:\n",
    "        # Si no podemos acceder a .result, intentamos convertir directamente el task_output a string\n",
    "        try:\n",
    "            result = str(task_output)\n",
    "            char_count = len(result)\n",
    "            \n",
    "            if char_count > 1000:\n",
    "                return (False, f\"Post content exceeds maximum length of 1000 characters. Current length: {char_count}\")\n",
    "\n",
    "            return (True, result)\n",
    "        except Exception as e:\n",
    "            return (False, f\"Could not process content: {str(e)}\")\n",
    "        \n",
    "    except Exception as e:\n",
    "        return (False, f\"Unexpected error during length validation: {str(e)}\")"
   ]
  },
  {
   "cell_type": "code",
   "execution_count": 19,
   "metadata": {},
   "outputs": [
    {
     "name": "stderr",
     "output_type": "stream",
     "text": [
      "Overriding of current TracerProvider is not allowed\n"
     ]
    }
   ],
   "source": [
    "# Creating Agents\n",
    "content_creator = Agent(\n",
    "  config=agents_config['content_creator']\n",
    ")\n",
    "\n",
    "# Creating Tasks\n",
    "post_creation = Task(\n",
    "  config=tasks_config['post_creation'],\n",
    "  agent=content_creator,\n",
    "  guardrail=validate_post_length\n",
    ")\n",
    "\n",
    "# Creating Crew\n",
    "crew = Crew(\n",
    "  agents=[\n",
    "    content_creator,\n",
    "  ],\n",
    "  tasks=[\n",
    "    post_creation,\n",
    "  ],\n",
    "  verbose=True\n",
    ")"
   ]
  },
  {
   "cell_type": "code",
   "execution_count": 20,
   "metadata": {},
   "outputs": [],
   "source": [
    "\n",
    "\n",
    "input = {'topic':'Benefits of chatbots for customer support'}"
   ]
  },
  {
   "cell_type": "code",
   "execution_count": 21,
   "metadata": {},
   "outputs": [
    {
     "name": "stdout",
     "output_type": "stream",
     "text": [
      "\u001b[1m\u001b[95m# Agent:\u001b[00m \u001b[1m\u001b[92mExperto en escribir posts\u001b[00m\n",
      "\u001b[95m## Task:\u001b[00m \u001b[92mEscribe un post sobre Benefits of chatbots for customer support de unas 150 palabras, con tono simple para que cualquier publico pueda entender.\n",
      "\u001b[00m\n",
      "\n",
      "\n",
      "\u001b[1m\u001b[95m# Agent:\u001b[00m \u001b[1m\u001b[92mExperto en escribir posts\u001b[00m\n",
      "\u001b[95m## Final Answer:\u001b[00m \u001b[92m\n",
      "¡Hola! Hoy vamos a hablar sobre los beneficios de los chatbots para el soporte al cliente. ¿Alguna vez has tenido una pregunta rápida y no sabes a quién acudir? Aquí es donde entran los chatbots. Estos pequeños ayudantes automáticos están disponibles 24/7, lo que significa que puedes obtener respuestas a cualquier hora del día, incluso a las 3 a.m. \n",
      "\n",
      "Además, los chatbots son rápidos. Pueden manejar múltiples preguntas al mismo tiempo, así que no hace falta esperar en una larga fila telefónica. Esto no solo mejora tu experiencia, sino que también ahorra tiempo. \n",
      "\n",
      "Otra gran ventaja es que los chatbots pueden responder preguntas frecuentes y resolver problemas simples, dejando a los agentes humanos libres para manejar cuestiones más complejas. Esto hace que el servicio al cliente sea más eficiente. \n",
      "\n",
      "En resumen, los chatbots ofrecen disponibilidad constante, respuestas rápidas y optimizan el trabajo de los agentes humanos. Con su ayuda, recibir soporte al cliente se convierte en una experiencia mucho más ágil y efectiva. ¿No es genial?\u001b[00m\n",
      "\n",
      "\n",
      "\u001b[93m Guardrail blocked, retrying, due to: Post content exceeds maximum length of 1000 characters. Current length: 1048\n",
      "\u001b[00m\n",
      "\u001b[1m\u001b[95m# Agent:\u001b[00m \u001b[1m\u001b[92mExperto en escribir posts\u001b[00m\n",
      "\u001b[95m## Task:\u001b[00m \u001b[92mEscribe un post sobre Benefits of chatbots for customer support de unas 150 palabras, con tono simple para que cualquier publico pueda entender.\n",
      "\u001b[00m\n",
      "\n",
      "\n",
      "\u001b[1m\u001b[95m# Agent:\u001b[00m \u001b[1m\u001b[92mExperto en escribir posts\u001b[00m\n",
      "\u001b[95m## Final Answer:\u001b[00m \u001b[92m\n",
      "¡Hola! Hoy quiero hablarte sobre los beneficios de los chatbots para el soporte al cliente. Imagina que tienes una pregunta y es tarde. Aquí es donde los chatbots brillan, ya que están disponibles 24/7, listos para ayudarte en cualquier momento.\n",
      "\n",
      "Una de las mejores cosas de los chatbots es que son súper rápidos. Responden a tus preguntas al instante, lo que significa que no tienes que esperar en largas colas como cuando llamas a un servicio de atención al cliente. ¡Eso ahorra tiempo y frustración!\n",
      "\n",
      "Además, los chatbots pueden encargarse de preguntas frecuentes y problemas sencillos. Esto permite que los agentes humanos se concentren en los casos más complicados, lo que mejora la eficiencia general del servicio. \n",
      "\n",
      "En resumen, los chatbots ofrecen ayuda inmediata, están disponibles todo el tiempo y optimizan el trabajo de los agentes, haciendo que la atención al cliente sea más efectiva y agradable. Así que la próxima vez que necesites ayuda, ¡considera la opción del chatbot!\u001b[00m\n",
      "\n",
      "\n"
     ]
    }
   ],
   "source": [
    "\n",
    "# Run the crew\n",
    "result = crew.kickoff(\n",
    "  inputs=input\n",
    ")"
   ]
  }
 ],
 "metadata": {
  "kernelspec": {
   "display_name": ".venv",
   "language": "python",
   "name": "python3"
  },
  "language_info": {
   "codemirror_mode": {
    "name": "ipython",
    "version": 3
   },
   "file_extension": ".py",
   "mimetype": "text/x-python",
   "name": "python",
   "nbconvert_exporter": "python",
   "pygments_lexer": "ipython3",
   "version": "3.12.3"
  }
 },
 "nbformat": 4,
 "nbformat_minor": 2
}
